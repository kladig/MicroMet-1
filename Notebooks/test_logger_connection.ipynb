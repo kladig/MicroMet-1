{
 "cells": [
  {
   "cell_type": "code",
   "id": "initial_id",
   "metadata": {
    "collapsed": true
   },
   "source": [
    "import requests\n",
    "from requests.auth import HTTPBasicAuth\n",
    "import pandas as pd\n",
    "from io import BytesIO"
   ],
   "outputs": [],
   "execution_count": null
  },
  {
   "metadata": {},
   "cell_type": "markdown",
   "source": "https://help.campbellsci.com/crbasic/cr1000x/Content/Info/webserverapicommands1.htm",
   "id": "c4ec6cb707344f59"
  },
  {
   "metadata": {},
   "cell_type": "markdown",
   "source": "https://www.campbellsci.asia/forum?forum=1&l=thread&tid=17030",
   "id": "a0de0b7fb9995832"
  },
  {
   "metadata": {},
   "cell_type": "code",
   "source": [
    "url = \"http://63.46.183.137:38000/tables.html?command=DataQuery&mode=since-record&format=toA5&uri=dl:Flux_AmeriFluxFormat&p1=0\"\n",
    "response_1 = requests.get(url)"
   ],
   "id": "bf07ce41208d5ea",
   "outputs": [],
   "execution_count": null
  },
  {
   "metadata": {},
   "cell_type": "code",
   "source": [
    "url = \"http://166.167.33.248/tables.html?command=DataQuery&mode=since-record&format=toA5&uri=dl:Flux_AmeriFluxFormat&p1=0\"\n",
    "\n",
    "response_1 = requests.get(url, auth=HTTPBasicAuth(\"ugs_python\", \"UGS3ddy!\"))\n",
    "print(response_1.content)"
   ],
   "id": "45cfc62e6e36d3a8",
   "outputs": [],
   "execution_count": null
  },
  {
   "metadata": {},
   "cell_type": "code",
   "source": "from io import BytesIO",
   "id": "8aa50147ab5776e7",
   "outputs": [],
   "execution_count": null
  },
  {
   "metadata": {},
   "cell_type": "code",
   "source": "headers = pd.read_csv(BytesIO(response_1.content),skiprows=[0]).iloc[0:2,:].T",
   "id": "bbef8dcfce945edc",
   "outputs": [],
   "execution_count": null
  },
  {
   "metadata": {},
   "cell_type": "code",
   "source": "headers",
   "id": "81921d29baa47f7b",
   "outputs": [],
   "execution_count": null
  },
  {
   "metadata": {},
   "cell_type": "code",
   "source": "pd.read_csv(BytesIO(response_1.content),skiprows=[0,2,3])",
   "id": "ea974a8a5ac8a40f",
   "outputs": [],
   "execution_count": null
  },
  {
   "metadata": {},
   "cell_type": "code",
   "source": "requests.get(\"http://166.167.33.248/CRD/21021_Flux_AmeriFluxFormat_2.dat\", auth=('Authorization',))",
   "id": "b678fc6091a4e9fb",
   "outputs": [],
   "execution_count": null
  },
  {
   "metadata": {},
   "cell_type": "code",
   "source": [
    "import pandas as pd\n",
    "\n",
    "station_url = \"http://166.167.33.248/CRD/21021_Flux_AmeriFluxFormat_2.dat\"\n",
    "stat_data = pd.read_csv(station_url)\n",
    "\n",
    "stat_data"
   ],
   "id": "330ecaad14bbd1f8",
   "outputs": [],
   "execution_count": null
  },
  {
   "metadata": {},
   "cell_type": "code",
   "source": [
    "\n",
    "\n",
    "station_url = \"http://166.167.33.248/tables.html?command=DataQuery&mode=since-record&format=toa5&uri=dl:Flux_AmeriFluxFormat&p1=0\"\n",
    "stat_data = pd.read_csv(station_url, skip-rows=[1])"
   ],
   "id": "ee6f32703c4a9ab5",
   "outputs": [],
   "execution_count": null
  },
  {
   "metadata": {},
   "cell_type": "code",
   "source": "stat_data",
   "id": "87fcbc5590ad1b25",
   "outputs": [],
   "execution_count": null
  },
  {
   "metadata": {},
   "cell_type": "code",
   "source": "http://166.167.33.248/tables.html?command=DataQuery&mode=since-record&format=xml&uri=dl:Flux_AmeriFluxFormat&p1=0",
   "id": "ee122907adfc2c0d",
   "outputs": [],
   "execution_count": null
  },
  {
   "metadata": {},
   "cell_type": "code",
   "source": "http://166.167.33.248/tables.html?command=DataQuery&mode=backfill&format=xml&uri=dl:Flux_AmeriFluxFormat&p1=1296000",
   "id": "bb368c4e29997ed2",
   "outputs": [],
   "execution_count": null
  },
  {
   "metadata": {},
   "cell_type": "code",
   "source": "http://166.167.33.248/tables.html?command=DataQuery&mode=backfill&format=html&uri=dl:Flux_AmeriFluxFormat&p1=1296000",
   "id": "e46a715b7adc443b",
   "outputs": [],
   "execution_count": null
  }
 ],
 "metadata": {
  "kernelspec": {
   "display_name": "Python 3",
   "language": "python",
   "name": "python3"
  },
  "language_info": {
   "codemirror_mode": {
    "name": "ipython",
    "version": 2
   },
   "file_extension": ".py",
   "mimetype": "text/x-python",
   "name": "python",
   "nbconvert_exporter": "python",
   "pygments_lexer": "ipython2",
   "version": "2.7.6"
  }
 },
 "nbformat": 4,
 "nbformat_minor": 5
}
